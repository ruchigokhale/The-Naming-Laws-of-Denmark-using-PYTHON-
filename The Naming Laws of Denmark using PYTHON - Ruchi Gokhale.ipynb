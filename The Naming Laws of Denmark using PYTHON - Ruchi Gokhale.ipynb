{
 "cells": [
  {
   "cell_type": "code",
   "execution_count": 3,
   "metadata": {},
   "outputs": [],
   "source": [
    "def EditDistance(legal_name, name, a, b):\n",
    "    distance=[]\n",
    "    #To create distance matrix\n",
    "    for z in range(a+1):\n",
    "        row=[]\n",
    "        for z in range(b+1):\n",
    "            row.append(0)\n",
    "        distance.append(row)     \n",
    "    \n",
    "      \n",
    "    for m in range(a+1): \n",
    "        for n in range(b+1): \n",
    "            if m == 0: \n",
    "                distance[m][n] = n               \n",
    "            elif n == 0: \n",
    "                distance[m][n] = m           \n",
    "            elif legal_name[m-1] == name[n-1]: \n",
    "                distance[m][n] = distance[m-1][n-1]             \n",
    "            else: \n",
    "                distance[m][n] = 1 + min(distance[m][n-1], # The value of number of insertion\n",
    "                                   distance[m-1][n],       # The value of number of deletion \n",
    "                                   distance[m-1][n-1])     # The value of new replaced char \n",
    "    return distance[a][b]"
   ]
  },
  {
   "cell_type": "code",
   "execution_count": 4,
   "metadata": {},
   "outputs": [],
   "source": [
    "def hamming_distance(c,d): #implemented hamming distance     \n",
    "    distance = 0 # Initialized distance with 0\n",
    "    \n",
    "    name_length = len(c) #Stored length of c in name_length\n",
    "    for i in range(name_length):\n",
    "        \n",
    "        if c[i] != d[i]:\n",
    "            distance += 1 # if two characters are not equal, distance+1\n",
    "    \n",
    "    return distance # Return the final count of differences i.e hamming distance"
   ]
  },
  {
   "cell_type": "code",
   "execution_count": 5,
   "metadata": {},
   "outputs": [
    {
     "name": "stdout",
     "output_type": "stream",
     "text": [
      "Please, enter a name for your baby aishwarya\n",
      "{'thor': 7, 'bjork': 8, 'bailey': 7, 'anders': 7, 'bent': 9, 'bjarne': 7, 'bjornclaus': 10, 'emil': 9, 'finn': 8, 'jakob': 8, 'karen': 7, 'julie': 9, 'johanne': 7, 'anna': 7, 'anne': 8, 'bente': 9, 'eva': 8, 'helene': 8, 'ida': 7, 'inge': 8, 'susanne': 7, 'sofie': 8, 'rikkie': 8, 'pia': 7, 'torben': 9, 'soren': 7, 'rune': 9, 'rasmus': 8, 'per': 8, 'michael': 6, 'mads': 8, 'hanne': 7, 'dorte': 8}\n",
      "Edit distance is: 6\n",
      "Suggested name for your baby :  michael \n",
      "The hamming distance for  michael  is  5\n"
     ]
    }
   ],
   "source": [
    "legal_name=['thor', 'bjork', 'bailey', 'anders', 'bent', 'bjarne', 'bjorn' 'claus', 'emil', 'finn', 'jakob', 'karen', 'julie', \n",
    "      'johanne', 'anna', 'anne','bente', 'eva', 'helene', 'ida', 'inge', 'susanne', 'sofie', 'rikkie', 'pia',     \n",
    "      'torben', 'soren', 'rune', 'rasmus', 'per', 'michael', 'mads', 'hanne','dorte']\n",
    "\n",
    "name=input(\"Please, enter a name for your baby \")\n",
    "#print(name)\n",
    "\n",
    "if name.lower() in legal_name: #lower the input so that we can compare it with our legal_name list\n",
    "    print(\"Congratulation, You can go ahead with your name\") #If the input = legal_name, it wont go further\n",
    "else:  \n",
    "    result={} #Create an empty dictionary. We will append this dictionary using key=name and value = edit_distance value to compare\n",
    "    for i in legal_name:\n",
    "        distance=(EditDistance(i, name.lower(), len(i), len(name))) \n",
    "        \n",
    "        result[i]=distance\n",
    "    print(result)\n",
    "        \n",
    "    min_distance=min(result[key] for key in result)\n",
    "    print(\"Edit distance is:\",min_distance)\n",
    "    \n",
    "    if len(name)<min_distance: #Here, if the edit distance value is greater than the length of the string, we are not returning any suggestion\n",
    "        print(\"Sorry, There is no suggestion for your name.\")\n",
    "    else:\n",
    "        suggest_name = []\n",
    "        \n",
    "        for i in result:\n",
    "            if(result[i]==min_distance):\n",
    "                suggest_name.append(i)\n",
    "        \n",
    "        suggest='' \n",
    "        for i in suggest_name:\n",
    "            suggest=suggest+i+' '\n",
    "        print(\"Suggested name for your baby : \",suggest)\n",
    "        \n",
    "\n",
    "        for i in suggest_name:\n",
    "            if len(i)<=len(name):\n",
    "                hd=(hamming_distance(i,name))\n",
    "            else:\n",
    "                hd=(hamming_distance(name,i))\n",
    "            \n",
    "            print(\"The hamming distance for \",i,\" is \",hd) #print hamming distance for all the suggested names\n"
   ]
  },
  {
   "cell_type": "code",
   "execution_count": null,
   "metadata": {},
   "outputs": [],
   "source": []
  }
 ],
 "metadata": {
  "kernelspec": {
   "display_name": "Python 3",
   "language": "python",
   "name": "python3"
  },
  "language_info": {
   "codemirror_mode": {
    "name": "ipython",
    "version": 3
   },
   "file_extension": ".py",
   "mimetype": "text/x-python",
   "name": "python",
   "nbconvert_exporter": "python",
   "pygments_lexer": "ipython3",
   "version": "3.7.0"
  }
 },
 "nbformat": 4,
 "nbformat_minor": 2
}
