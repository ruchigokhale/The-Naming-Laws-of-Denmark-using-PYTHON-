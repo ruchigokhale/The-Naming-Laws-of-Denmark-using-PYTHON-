{
 "cells": [
  {
   "cell_type": "markdown",
   "metadata": {},
   "source": [
    "Before you turn this problem in, make sure everything runs as expected. First, **restart the kernel** (in the menubar, select Kernel$\\rightarrow$Restart) and then **run all cells** (in the menubar, select Cell$\\rightarrow$Run All).\n",
    "\n",
    "Make sure you fill in any place that says `YOUR CODE HERE`. Do not write your code anywhere else. Do not add or delete any cells(even the empty ones). This is really important. Please only write your code below \"# YOUR CODE HERE\" and don't delete empty cells. Empty cells are where we will run automated test cases to grade your code. If you delete any empty cell(or add additional cells), it will mess up with running test cases on your code.\n",
    "\n",
    "Sample input file is for your reference only. You may run your code on those texts to check that your function is doing what it is supposed to do. But do that in some other file. Don't submit that extra work as part of this notebook. The only thing you are supposed to submit is your code for functions. Do not submit outputs of sample texts. (In fact, your submission won't have any outputs because we are just defining functions in this file, we are not using those functions to print anything)\n",
    "\n",
    "Do not change the names of the functions. After you write your function delete the line \"raise NotImplementedError()\".\n",
    "\n",
    "Write your name below in format of \"Last_name First_name\""
   ]
  },
  {
   "cell_type": "code",
   "execution_count": 1,
   "metadata": {},
   "outputs": [],
   "source": [
    "NAME = \"Gokhale Ruchi\""
   ]
  },
  {
   "cell_type": "markdown",
   "metadata": {},
   "source": [
    "---"
   ]
  },
  {
   "cell_type": "markdown",
   "metadata": {
    "deletable": false,
    "editable": false,
    "nbgrader": {
     "checksum": "3dd62fcf0b54f8201f609f95e30b1412",
     "grade": false,
     "grade_id": "Instructions",
     "locked": true,
     "schema_version": 1,
     "solution": false
    }
   },
   "source": [
    "# Project 2: Text analyzer and modifier \n",
    "\n",
    "\n",
    "- Write a function, ``test_replace()``, to replace all ``%`` with ``percent``, and all ``#`` with ``number``. (1 point)\n",
    "- Write a function, ``text_cleanup()``, to remove all the non-alphabetical, non-integral and non-punctuation characters from the text. (2 points)\n",
    "    - Valid punctuations:  ``. , : ; \" ? ! ( ) [ ]``\n",
    "- Write a function, ``top_frequency()``, to return the top k frequent words in a text. (4 points)\n",
    "- Write a function, ``punc_count()``, to return number of valid punctuations in a text. (2 points)\n",
    "- Write a function, ``sentence_count()``, to return number of complete sentences in a text. (3 points)\n",
    "- Write a function, ``longest_length()``, to return the length of the longest sentence in the input text. (3 points) \n",
    "- Write a function, ``edit_distance_matrix()``, to return a matrix that shows the ``edit_distance`` of any two sentences in the input text. (5 points) \n",
    "\n",
    "- Write a python code to read a text and call above functions to better understand the input text. (Total points 20)\n",
    "\n",
    "**Note:** Please don't change the name of the functions. "
   ]
  },
  {
   "cell_type": "code",
   "execution_count": 2,
   "metadata": {
    "deletable": false,
    "nbgrader": {
     "checksum": "58fa3f8ccc9a2f39c14e01c0524ec7d5",
     "grade": false,
     "grade_id": "Function1",
     "locked": false,
     "schema_version": 1,
     "solution": true
    }
   },
   "outputs": [],
   "source": [
    "def text_replace(text):\n",
    "    dic = { \"#\": \" number\",  \"%\": \" percent\"}\n",
    "    for m, n in dic.items():\n",
    "        text = text.replace(m, n)\n",
    "    return text\n",
    "    # YOUR CODE HERE\n",
    "    #raise NotImplementedError()"
   ]
  },
  {
   "cell_type": "code",
   "execution_count": null,
   "metadata": {
    "deletable": false,
    "editable": false,
    "nbgrader": {
     "checksum": "de534c6b52447e2e299c40327f249595",
     "grade": true,
     "grade_id": "Test1",
     "locked": true,
     "points": 1,
     "schema_version": 1,
     "solution": false
    }
   },
   "outputs": [],
   "source": []
  },
  {
   "cell_type": "code",
   "execution_count": 3,
   "metadata": {
    "deletable": false,
    "nbgrader": {
     "checksum": "65d8c8399abfa970f91be8f5967c61e5",
     "grade": false,
     "grade_id": "Function2",
     "locked": false,
     "schema_version": 1,
     "solution": true
    }
   },
   "outputs": [],
   "source": [
    "def text_cleanup(text):\n",
    "    punctuations = '''!-{}'\"<>\\/@#$%^&*_~'''\n",
    "    no_punct = \"\"\n",
    "    for char in text:\n",
    "        if char not in punctuations:\n",
    "            no_punct = no_punct + char\n",
    "    return no_punct\n",
    "    # YOUR CODE HERE\n",
    "    #raise NotImplementedError()"
   ]
  },
  {
   "cell_type": "code",
   "execution_count": null,
   "metadata": {
    "deletable": false,
    "editable": false,
    "nbgrader": {
     "checksum": "34a2e102e7b3bb0d06b7ee453e85e9b2",
     "grade": true,
     "grade_id": "Test2",
     "locked": true,
     "points": 2,
     "schema_version": 1,
     "solution": false
    }
   },
   "outputs": [],
   "source": []
  },
  {
   "cell_type": "code",
   "execution_count": 4,
   "metadata": {
    "deletable": false,
    "nbgrader": {
     "checksum": "2cac7e4332871b2f764c6532c7496cb8",
     "grade": false,
     "grade_id": "Function3",
     "locked": false,
     "schema_version": 1,
     "solution": true
    }
   },
   "outputs": [],
   "source": [
    "def top_frequency(text,k):\n",
    "    text=text.lower()\n",
    "    words = text.split()\n",
    "\n",
    "    for word in words:\n",
    "        if word in k:\n",
    "            k[word] += 1\n",
    "        else:\n",
    "            k[word] = 1\n",
    "    \n",
    "    \n",
    "    max_value = max(k[key] for key in )\n",
    "    max_key=[]\n",
    "    for key in c:\n",
    "        if(c[key]==max_value):\n",
    "            max_key.append(key)\n",
    "            \n",
    "    print(\"The top frequency word is :\")\n",
    "    return max_key\n",
    "    # YOUR CODE HERE\n",
    "    #raise NotImplementedError()"
   ]
  },
  {
   "cell_type": "code",
   "execution_count": null,
   "metadata": {
    "deletable": false,
    "editable": false,
    "nbgrader": {
     "checksum": "ed2dd329ff2c6bb60ccdd4056d5c598d",
     "grade": true,
     "grade_id": "Test3",
     "locked": true,
     "points": 4,
     "schema_version": 1,
     "solution": false
    }
   },
   "outputs": [],
   "source": []
  },
  {
   "cell_type": "code",
   "execution_count": 5,
   "metadata": {
    "deletable": false,
    "nbgrader": {
     "checksum": "86000f95fc005adaa452b0e451ccd61d",
     "grade": false,
     "grade_id": "Function4",
     "locked": false,
     "schema_version": 1,
     "solution": true
    }
   },
   "outputs": [],
   "source": [
    "def punc_count(text):\n",
    "    punc = \".,:;?!()[]\"\n",
    "    count = 0\n",
    "    for i in text:\n",
    "        if i in punc:\n",
    "            count = count + 1\n",
    "    return count\n",
    "    # YOUR CODE HERE\n",
    "    #raise NotImplementedError()"
   ]
  },
  {
   "cell_type": "code",
   "execution_count": null,
   "metadata": {
    "deletable": false,
    "editable": false,
    "nbgrader": {
     "checksum": "76ba03e97cdc6308f57075c0cdf0c9d4",
     "grade": true,
     "grade_id": "Test4",
     "locked": true,
     "points": 2,
     "schema_version": 1,
     "solution": false
    }
   },
   "outputs": [],
   "source": []
  },
  {
   "cell_type": "code",
   "execution_count": 6,
   "metadata": {
    "deletable": false,
    "nbgrader": {
     "checksum": "ad094b32d996f22b2a08713dcc2a3e5d",
     "grade": false,
     "grade_id": "Function5",
     "locked": false,
     "schema_version": 1,
     "solution": true
    }
   },
   "outputs": [],
   "source": [
    "def sentence_count(text):\n",
    "    stop = '!.?'\n",
    "    count = 0\n",
    "    for i in text:\n",
    "        if i in stop:\n",
    "            count = count + 1\n",
    "    return count\n",
    "    # YOUR CODE HERE\n",
    "    #raise NotImplementedError()"
   ]
  },
  {
   "cell_type": "code",
   "execution_count": null,
   "metadata": {
    "deletable": false,
    "editable": false,
    "nbgrader": {
     "checksum": "c1adc4536b9b30d7ebc30d0e72f88421",
     "grade": true,
     "grade_id": "Test5",
     "locked": true,
     "points": 3,
     "schema_version": 1,
     "solution": false
    }
   },
   "outputs": [],
   "source": []
  },
  {
   "cell_type": "code",
   "execution_count": 7,
   "metadata": {
    "deletable": false,
    "nbgrader": {
     "checksum": "3dfab17ca8dea8509519f65789ebcdfc",
     "grade": false,
     "grade_id": "cell-881c1f7df410c854",
     "locked": false,
     "schema_version": 1,
     "solution": true
    }
   },
   "outputs": [],
   "source": [
    "def longest_length(text):\n",
    "    numWords = [len(sentence.split()) for sentence in text.split('.')]\n",
    "    count = max(numWords)\n",
    "    print(\"The length of longest sentence is :\")\n",
    "    return count\n",
    "    # YOUR CODE HERE\n",
    "    #raise NotImplementedError()"
   ]
  },
  {
   "cell_type": "code",
   "execution_count": null,
   "metadata": {
    "deletable": false,
    "editable": false,
    "nbgrader": {
     "checksum": "12778705e10e145e6e1f00dcf9e5b1f0",
     "grade": true,
     "grade_id": "Test6",
     "locked": true,
     "points": 3,
     "schema_version": 1,
     "solution": false
    }
   },
   "outputs": [],
   "source": []
  },
  {
   "cell_type": "code",
   "execution_count": 8,
   "metadata": {
    "deletable": false,
    "editable": false,
    "nbgrader": {
     "checksum": "a58c03906b6df954cc6548fcfcd4c0af",
     "grade": false,
     "grade_id": "Function",
     "locked": true,
     "schema_version": 1,
     "solution": false
    }
   },
   "outputs": [],
   "source": [
    "def edit_distance(list1, list2):\n",
    "    rows = len(list1)\n",
    "    cols = len(list2)\n",
    "    dist = [[0 for x in range(cols)] for x in range(rows)]\n",
    "    for i in range(1, rows):\n",
    "        dist[i][0] = i\n",
    "    \n",
    "    for i in range(1, cols):\n",
    "        dist[0][i] = i\n",
    "        \n",
    "    for col in range(1, cols):\n",
    "        for row in range(1, rows):\n",
    "            if list1[row-1] == list2[col-1]:\n",
    "                cost = 0\n",
    "            else:\n",
    "                cost = 1\n",
    "            dist[row][col] = min(dist[row-1][col] + 1,      # deletion\n",
    "                                 dist[row][col-1] + 1,      # insertion\n",
    "                                 dist[row-1][col-1] + cost) # substitution\n",
    "    return dist[row][col]"
   ]
  },
  {
   "cell_type": "code",
   "execution_count": 9,
   "metadata": {
    "deletable": false,
    "nbgrader": {
     "checksum": "bbef59c7f11b48ef219d32802bc406cd",
     "grade": false,
     "grade_id": "Function7",
     "locked": false,
     "schema_version": 1,
     "solution": true
    }
   },
   "outputs": [],
   "source": [
    "def edit_distance_matrix(text):\n",
    "    def edit_distance_matrix(text):\n",
    "    sent_break = ['.','!','?']\n",
    "    pref = ['Mr.','Mrs.','Dr.','Ms.','Er.','Ca.']\n",
    "    sentence = ''\n",
    "    z1= []\n",
    "    matrix=[]\n",
    "    ctr = 0\n",
    "    \n",
    "    str_1= text.split()\n",
    "    str_2= ' '.join([x.split('.')[0] if x in pref else x for x in str_1])\n",
    "    \n",
    "    \n",
    "    for x in str_2:\n",
    "        y = 0\n",
    "        if not x in sent_break:\n",
    "            sentence += x\n",
    "        \n",
    "        if x in sent_break:\n",
    "            y+=1\n",
    "            z1.append(sentence)\n",
    "            sentence = ''\n",
    "            \n",
    "    for x in z1:\n",
    "        for y in z1:\n",
    "            matrix.append(edit_distance(x,y))\n",
    "        print(matrix)\n",
    "        print('\\n')\n",
    "        matrix = []\n",
    "            \n",
    "    return matrix\n",
    "\n",
    "    # YOUR CODE HERE\n",
    "    #raise NotImplementedError()"
   ]
  },
  {
   "cell_type": "code",
   "execution_count": null,
   "metadata": {
    "deletable": false,
    "editable": false,
    "nbgrader": {
     "checksum": "0f2663945ed1a66988bbf50159fc8d9e",
     "grade": true,
     "grade_id": "Test7",
     "locked": true,
     "points": 5,
     "schema_version": 1,
     "solution": false
    }
   },
   "outputs": [],
   "source": []
  }
 ],
 "metadata": {
  "kernelspec": {
   "display_name": "Python 3",
   "language": "python",
   "name": "python3"
  },
  "language_info": {
   "codemirror_mode": {
    "name": "ipython",
    "version": 3
   },
   "file_extension": ".py",
   "mimetype": "text/x-python",
   "name": "python",
   "nbconvert_exporter": "python",
   "pygments_lexer": "ipython3",
   "version": "3.6.5"
  }
 },
 "nbformat": 4,
 "nbformat_minor": 2
}
